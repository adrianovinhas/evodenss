{
 "cells": [
  {
   "cell_type": "code",
   "execution_count": 1,
   "metadata": {},
   "outputs": [],
   "source": [
    "import os\n",
    "\n",
    "import pandas as pd\n",
    "import seaborn as sns\n",
    "import matplotlib.pyplot as plt"
   ]
  },
  {
   "cell_type": "code",
   "execution_count": 2,
   "metadata": {},
   "outputs": [],
   "source": [
    "experiments_path = \"experiments\"\n",
    "run = 0"
   ]
  },
  {
   "cell_type": "code",
   "execution_count": 3,
   "metadata": {},
   "outputs": [],
   "source": [
    "def read_statistics_data(experiments_path, run):\n",
    "    path = f\"{experiments_path}/run_{run}/statistics\"\n",
    "    files = os.listdir(path)\n",
    "    dataframes = []\n",
    "    for f in files:\n",
    "        df = pd.read_csv(f\"{path}/{f}\", delimiter='\\t')\n",
    "        df['generation'] = int(f.split(os.sep)[-1].replace('generation_','').replace('.csv',''))\n",
    "        dataframes.append(df)\n",
    "    return pd.concat(dataframes).reset_index(drop=True)\n",
    "    "
   ]
  },
  {
   "cell_type": "code",
   "execution_count": 4,
   "metadata": {},
   "outputs": [],
   "source": [
    "stats_df = read_statistics_data(experiments_path, run)"
   ]
  },
  {
   "cell_type": "code",
   "execution_count": 5,
   "metadata": {
    "scrolled": false
   },
   "outputs": [
    {
     "data": {
      "text/html": [
       "<div>\n",
       "<style scoped>\n",
       "    .dataframe tbody tr th:only-of-type {\n",
       "        vertical-align: middle;\n",
       "    }\n",
       "\n",
       "    .dataframe tbody tr th {\n",
       "        vertical-align: top;\n",
       "    }\n",
       "\n",
       "    .dataframe thead th {\n",
       "        text-align: right;\n",
       "    }\n",
       "</style>\n",
       "<table border=\"1\" class=\"dataframe\">\n",
       "  <thead>\n",
       "    <tr style=\"text-align: right;\">\n",
       "      <th></th>\n",
       "      <th>id</th>\n",
       "      <th>phenotype</th>\n",
       "      <th>fitness</th>\n",
       "      <th>num_epochs</th>\n",
       "      <th>training_time_spent</th>\n",
       "      <th>training_time</th>\n",
       "      <th>is_valid_solution</th>\n",
       "      <th>fitness.1</th>\n",
       "      <th>n_trainable_parameters</th>\n",
       "      <th>n_layers</th>\n",
       "      <th>training_time_spent.1</th>\n",
       "      <th>losses</th>\n",
       "      <th>n_epochs</th>\n",
       "      <th>generation</th>\n",
       "    </tr>\n",
       "  </thead>\n",
       "  <tbody>\n",
       "    <tr>\n",
       "      <th>0</th>\n",
       "      <td>0</td>\n",
       "      <td>layer:pool_max kernel_size:5 stride:2 padding:...</td>\n",
       "      <td>0.503208</td>\n",
       "      <td>36</td>\n",
       "      <td>529.178248</td>\n",
       "      <td>300</td>\n",
       "      <td>True</td>\n",
       "      <td>0.503208</td>\n",
       "      <td>67209138</td>\n",
       "      <td>3</td>\n",
       "      <td>529.178248</td>\n",
       "      <td>{'train_loss_diagonal': [284.6441650390625, 21...</td>\n",
       "      <td>36</td>\n",
       "      <td>0</td>\n",
       "    </tr>\n",
       "    <tr>\n",
       "      <th>1</th>\n",
       "      <td>1</td>\n",
       "      <td>layer:batch_norm input:-1 layer:fc act:relu ou...</td>\n",
       "      <td>0.643203</td>\n",
       "      <td>14</td>\n",
       "      <td>563.493045</td>\n",
       "      <td>300</td>\n",
       "      <td>True</td>\n",
       "      <td>0.643203</td>\n",
       "      <td>68009305</td>\n",
       "      <td>3</td>\n",
       "      <td>563.493045</td>\n",
       "      <td>{'train_loss_diagonal': [828.5635375976562, 68...</td>\n",
       "      <td>14</td>\n",
       "      <td>0</td>\n",
       "    </tr>\n",
       "    <tr>\n",
       "      <th>2</th>\n",
       "      <td>2</td>\n",
       "      <td>layer:dropout rate:0.5796442948827292 input:-1...</td>\n",
       "      <td>0.225569</td>\n",
       "      <td>15</td>\n",
       "      <td>580.338784</td>\n",
       "      <td>300</td>\n",
       "      <td>True</td>\n",
       "      <td>0.225569</td>\n",
       "      <td>69184028</td>\n",
       "      <td>3</td>\n",
       "      <td>580.338784</td>\n",
       "      <td>{'train_loss_diagonal': [707.431884765625, 799...</td>\n",
       "      <td>15</td>\n",
       "      <td>0</td>\n",
       "    </tr>\n",
       "  </tbody>\n",
       "</table>\n",
       "</div>"
      ],
      "text/plain": [
       "   id                                          phenotype   fitness  \\\n",
       "0   0  layer:pool_max kernel_size:5 stride:2 padding:...  0.503208   \n",
       "1   1  layer:batch_norm input:-1 layer:fc act:relu ou...  0.643203   \n",
       "2   2  layer:dropout rate:0.5796442948827292 input:-1...  0.225569   \n",
       "\n",
       "   num_epochs  training_time_spent  training_time  is_valid_solution  \\\n",
       "0          36           529.178248            300               True   \n",
       "1          14           563.493045            300               True   \n",
       "2          15           580.338784            300               True   \n",
       "\n",
       "   fitness.1  n_trainable_parameters  n_layers  training_time_spent.1  \\\n",
       "0   0.503208                67209138         3             529.178248   \n",
       "1   0.643203                68009305         3             563.493045   \n",
       "2   0.225569                69184028         3             580.338784   \n",
       "\n",
       "                                              losses  n_epochs  generation  \n",
       "0  {'train_loss_diagonal': [284.6441650390625, 21...        36           0  \n",
       "1  {'train_loss_diagonal': [828.5635375976562, 68...        14           0  \n",
       "2  {'train_loss_diagonal': [707.431884765625, 799...        15           0  "
      ]
     },
     "execution_count": 5,
     "metadata": {},
     "output_type": "execute_result"
    }
   ],
   "source": [
    "stats_df.head(5)"
   ]
  },
  {
   "cell_type": "code",
   "execution_count": 6,
   "metadata": {},
   "outputs": [
    {
     "data": {
      "text/plain": [
       "[Text(0, 0, '0')]"
      ]
     },
     "execution_count": 6,
     "metadata": {},
     "output_type": "execute_result"
    },
    {
     "data": {
      "image/png": "[encoded data removed]",
      "text/plain": [
       "<Figure size 1152x576 with 4 Axes>"
      ]
     },
     "metadata": {
      "needs_background": "light"
     },
     "output_type": "display_data"
    }
   ],
   "source": [
    "fig, axs = plt.subplots(2, 2, figsize=(16, 8))\n",
    "\n",
    "xticks = sorted(stats_df['generation'].unique())\n",
    "\n",
    "sns.lineplot(x='generation', y='fitness', data=stats_df, ax=axs[0][0])\n",
    "axs[0][0].set_xticks(xticks)\n",
    "axs[0][0].set_xticklabels(xticks)\n",
    "\n",
    "sns.lineplot(x='generation', y='n_layers', data=stats_df, ax=axs[0][1])\n",
    "axs[0][1].set_xticks(xticks)\n",
    "axs[0][1].set_xticklabels(xticks)\n",
    "\n",
    "sns.lineplot(x='generation', y='n_trainable_parameters', data=stats_df, ax=axs[1][0])\n",
    "axs[1][0].set_xticks(xticks)\n",
    "axs[1][0].set_xticklabels(xticks)\n",
    "\n",
    "sns.lineplot(x='generation', y='training_time_spent', data=stats_df, ax=axs[1][1])\n",
    "axs[1][1].set_xticks(xticks)\n",
    "axs[1][1].set_xticklabels(xticks)"
   ]
  },
  {
   "cell_type": "code",
   "execution_count": null,
   "metadata": {},
   "outputs": [],
   "source": [
    "# add best overall fitness"
   ]
  }
 ],
 "metadata": {
  "kernelspec": {
   "display_name": "Python 3 (ipykernel)",
   "language": "python",
   "name": "python3"
  },
  "language_info": {
   "codemirror_mode": {
    "name": "ipython",
    "version": 3
   },
   "file_extension": ".py",
   "mimetype": "text/x-python",
   "name": "python",
   "nbconvert_exporter": "python",
   "pygments_lexer": "ipython3",
   "version": "3.8.12"
  }
 },
 "nbformat": 4,
 "nbformat_minor": 4
}
